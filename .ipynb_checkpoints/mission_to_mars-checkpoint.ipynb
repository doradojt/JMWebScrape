{
 "cells": [
  {
   "cell_type": "markdown",
   "metadata": {},
   "source": [
    "###We want to scrape the latest News title \n",
    "###and paragraph text from mars.nasa.gov/news/\n"
   ]
  },
  {
   "cell_type": "code",
   "execution_count": 1,
   "metadata": {},
   "outputs": [],
   "source": [
    "from splinter import Browser\n",
    "from bs4 import BeautifulSoup\n",
    "import pandas as pd\n",
    "import os\n",
    "import requests"
   ]
  },
  {
   "cell_type": "code",
   "execution_count": 2,
   "metadata": {},
   "outputs": [],
   "source": [
    "executable_path = {'executable_path': 'chromedriver.exe'}\n",
    "browser = Browser('chrome', **executable_path, headless=False)"
   ]
  },
  {
   "cell_type": "code",
   "execution_count": 8,
   "metadata": {},
   "outputs": [],
   "source": [
    "url = 'https://mars.nasa.gov/news/'\n",
    "browser.visit(url)"
   ]
  },
  {
   "cell_type": "code",
   "execution_count": 9,
   "metadata": {},
   "outputs": [
    {
     "name": "stdout",
     "output_type": "stream",
     "text": [
      "-----------\n",
      "Curiosity on the Move Again\n",
      "NASA's Mars Curiosity rover drove about 197 feet over the weekend to a site called Lake Orcadie, pushing its total odometry to over 12 miles.\n",
      "-----------\n",
      "The Mars InSight Landing Site Is Just Plain Perfect\n",
      "If the InSight landing zone were ice cream, it would be vanilla.\n",
      "-----------\n",
      "Five Things to Know About InSight's Mars Landing\n",
      "NASA engineers will be holding their breath when their spacecraft heads into Mars' atmosphere on Nov. 26.\n",
      "-----------\n",
      "NASA Launches a New Podcast to Mars\n",
      "NASA's new eight-episode series 'On a Mission' follows the InSight spacecraft on its journey to Mars and details the extraordinary challenges of landing on the Red Planet.\n",
      "-----------\n",
      "Update on Opportunity Rover Recovery Efforts\n",
      "After a review of the progress of the listening campaign, NASA will continue its current strategy for attempting to make contact with the Opportunity rover for the foreseeable future.\n",
      "-----------\n",
      "Third ASPIRE Test Confirms Mars 2020 Parachute a Go\n",
      "The supersonic parachute that will handle the heaviest payload yet to the Red Planet – Mars 2020 rover – passes its final sounding rocket test with flying colors.\n",
      "-----------\n",
      "NASA to Host Briefing on November Mars InSight Landing\n",
      "A briefing on NASA's upcoming InSight Mars landing will air on Wed. Oct. 31 at 1:30 p.m. EDT (10:30 a.m. PDT) on NASA TV, the agency's website and NASA InSight Facebook Page.\n",
      "-----------\n",
      "NASA's InSight Will Study Mars While Standing Still\n",
      "The lander's unique science can teach us how planets are born.\n",
      "-----------\n",
      "NASA's First Image of Mars from a CubeSat\n",
      "The image was produced by one of the twin briefcase-sized MarCO spacecraft, the first CubeSats to fly to deep space.\n",
      "-----------\n",
      "The 'Claw Game' on Mars: NASA InSight Plays to Win\n",
      "NASA's InSight lander will be the first mission to use a robotic arm to grasp instruments from the spacecraft and place them on the surface of another planet. \n",
      "-----------\n",
      "Scientists to Debate Landing Site for Next Mars Rover\n",
      "Hundreds of scientists and Mars-exploration enthusiasts gather this week to present, discuss and deliberate the future landing site for NASA's next Red Planet. \n",
      "-----------\n",
      "Mars Virtual Reality Software Wins NASA Award\n",
      "A mixed-reality software that allows scientists and engineers to virtually walk on Mars has received NASA's 2018 Software of the Year Award.\n",
      "-----------\n",
      "Painting Cars for Mars\n",
      "What does NASA do to get a rover ready for Mars? JPL's paint shop does a thousand different paint jobs a year. And while every piece of spacecraft that comes through the shop is important, one headed for the Red Planet adds a little extra oomph.\n",
      "-----------\n",
      "Opportunity Emerges in a Dusty Picture\n",
      "NASA still hasn't heard from the Opportunity rover, but at least the agency can see it again.\n",
      "-----------\n",
      "NASA Seeking Partner in Contest to Name Next Mars Rover\n",
      "NASA has a class assignment for corporations, nonprofits and educational organizations involved in science and space exploration: partner with the agency to inspire future engineers and scientists by sponsoring a contest to name the next rover to venture to the Red Planet.\n",
      "-----------\n",
      "NASA's MAVEN Selfie Marks Four Years in Orbit at Mars\n",
      "NASA’s MAVEN spacecraft celebrates four years in Mars orbit with a selfie.\n",
      "-----------\n",
      "MarCO Makes Space for Small Explorers\n",
      "A pair of NASA CubeSats flying to Mars are opening a new frontier for small spacecraft.\n",
      "-----------\n",
      "Curiosity Surveys a Mystery Under Dusty Skies\n",
      "NASA's Curiosity rover surveyed its surroundings on Mars, producing a 360-degree panorama of its current location on Vera Rubin Ridge.\n",
      "-----------\n",
      "NASA's InSight Has a Thermometer for Mars\n",
      "The mission's heat probe could reveal how the planet's towering volcanoes formed.\n",
      "-----------\n",
      "Digital Creators: Apply for NASA Mars Landing Event\n",
      "Up to 30 multimedia participants will be selected for a special two-day event at JPL culminating in the InSight spacecraft's landing on Mars. Apply by Sept. 3.\n",
      "-----------\n",
      "NASA's InSight Passes Halfway to Mars, Instruments Check In\n",
      "NASA's InSight spacecraft, en route to a Nov. 26 landing on Mars, passed the halfway mark on Aug. 6. All of its instruments have been tested and are working well.\n",
      "-----------\n",
      "Six Things About Opportunity's Recovery Efforts\n",
      "The global dust storm on Mars could soon let in enough sunlight for the Opportunity rover to recharge.\n",
      "-----------\n",
      "Meet the People Behind NASA's InSight Mars Lander\n",
      "A series of NASA videos highlight scientists and engineers leading the next mission to Mars.\n",
      "-----------\n",
      "Mars Terraforming Not Possible Using Present-Day Technology\n",
      "Transforming the inhospitable Martian environment into a place astronauts could explore without life support is not possible without technology well beyond today’s capabilities.\n",
      "-----------\n",
      "Opportunity Hunkers Down During Dust Storm\n",
      "It's the beginning of the end for the planet-encircling dust storm on Mars. But it could still be weeks, or even months, before skies are clear enough for NASA's Opportunity rover to recharge its batteries and phone home. \n",
      "-----------\n",
      "NASA Statement on Possible Subsurface Lake near Martian South Pole\n",
      "A new paper suggests that liquid water may be sitting under a layer of ice at Mars' south pole.\n",
      "-----------\n",
      "JPL's 'Martians' Are Coming to Griffith Observatory\n",
      "On July 30, when Mars and Earth are closer than they've been since 2003, JPL scientists and engineers will be at a free public event at Griffith Observatory in Los Angeles.\n",
      "-----------\n",
      "NASA's MAVEN Spacecraft Finds That 'Stolen' Electrons Enable Unusual Aurora on Mars\n",
      "Auroras appear on Earth as ghostly displays of colorful light in the night sky, usually near the poles.\n",
      "-----------\n",
      "'Storm Chasers' on Mars Searching for Dusty Secrets\n",
      "Scientists with NASA's Mars orbiters have been waiting years for an event like the current Mars global dust storm.\n",
      "-----------\n",
      "NASA Mars Mission Adds Southern California Dates\n",
      "Looking for summer fun? Southern California families have their choice of the beach, movies, museums -- and even NASA's next mission to Mars.\n",
      "-----------\n",
      "Curiosity Captures Photos of Thickening Dust\n",
      "A storm of tiny dust particles has engulfed much of Mars over the last two weeks.\n",
      "-----------\n",
      "NASA Encounters the Perfect Storm for Science\n",
      "One of the most intense Martian dust storms ever observed is being studied by a record number of NASA spacecraft.\n",
      "-----------\n",
      "Media Telecon About Mars Dust Storm, Opportunity\n",
      "NASA will host a media telecon on Wednesday, June 13, about a massive Martian dust storm affecting the Opportunity rover, and how various missions can obtain unique science.\n",
      "-----------\n",
      "NASA Finds Ancient Organic Material, Mysterious Methane on Mars\n",
      "NASA’s Curiosity rover has found evidence on Mars with implications for NASA’s search for life.\n",
      "-----------\n",
      "NASA to Host Live Discussion on New Mars Science Results\n",
      "Questions are welcome during a live discussion at 11 a.m. PDT (2 p.m. EDT) Thursday, June 7, on new science results from NASA's Mars Curiosity rover.\n",
      "-----------\n",
      "Mars Curiosity's Labs Are Back in Action\n",
      "NASA's Curiosity rover is analyzing drilled samples on Mars in one of its onboard labs for the first time in more than a year.\n",
      "-----------\n",
      "NASA CubeSats Steer Toward Mars\n",
      "NASA has achieved a first for the class of tiny spacecraft known as CubeSats, which are opening new access to space.\n",
      "-----------\n",
      "Scientists Shrink Chemistry Lab to Seek Evidence of Life on Mars\n",
      "An international team of scientists has created a tiny chemistry lab for a rover that will drill beneath the Martian surface looking for signs of past or present life.\n",
      "-----------\n",
      "InSight Steers Toward Mars\n",
      "The spacecraft has completed its first trajectory correction maneuver.\n",
      "-----------\n",
      "Drilling Success: Curiosity is Collecting Mars Rocks\n",
      "Engineers will now test delivering samples to instruments inside NASA's Curiosity Mars rover.\n"
     ]
    }
   ],
   "source": [
    "    html = browser.html\n",
    "    soup = BeautifulSoup(html, 'html.parser')\n",
    "\n",
    "    articles = soup.find_all('li', class_='slide')\n",
    "\n",
    "    for article in articles:\n",
    "        text = article.find(class_='list_text')\n",
    "        news_title = text.find(class_='content_title')\n",
    "        news_title_name = news_title.find('a').text\n",
    "        #a = title_name.find.text\n",
    "        news_p = text.find(class_='article_teaser_body').text\n",
    "        print('-----------')\n",
    "        print(news_title_name)\n",
    "        print(news_p)\n",
    "\n",
    "#browser.click_link_by_partial_text('more')"
   ]
  },
  {
   "cell_type": "code",
   "execution_count": 10,
   "metadata": {},
   "outputs": [],
   "source": [
    "html = browser.html\n",
    "soup = BeautifulSoup(html, 'html.parser')"
   ]
  },
  {
   "cell_type": "code",
   "execution_count": 6,
   "metadata": {},
   "outputs": [],
   "source": [
    "\n",
    "\n",
    "articles = soup.find('li', class_='slide')\n",
    "\n",
    "text = article.find(class_='list_text')\n",
    "news_title = text.find(class_='content_title')        \n",
    "news_title_name = news_title.find('a').text\n",
    "news_p = text.find(class_='article_teaser_body').text"
   ]
  },
  {
   "cell_type": "code",
   "execution_count": 7,
   "metadata": {},
   "outputs": [],
   "source": [
    "#print(news_title_name)"
   ]
  },
  {
   "cell_type": "code",
   "execution_count": 8,
   "metadata": {},
   "outputs": [],
   "source": [
    "executable_path = {'executable_path': 'chromedriver.exe'}\n",
    "browser = Browser('chrome', **executable_path, headless=False)\n",
    "\n",
    "url = 'https://www.jpl.nasa.gov/spaceimages/?search=&category=Mars'\n",
    "browser.visit(url)"
   ]
  },
  {
   "cell_type": "code",
   "execution_count": 9,
   "metadata": {},
   "outputs": [],
   "source": [
    "html = browser.html\n",
    "soup = BeautifulSoup(html,'html.parser')"
   ]
  },
  {
   "cell_type": "code",
   "execution_count": 10,
   "metadata": {},
   "outputs": [],
   "source": [
    "images = soup.find('section', class_='centered_text clearfix main_feature primary_media_feature single')\n",
    "\n",
    "link = images.find('article')\n",
    "url = link['style']\n",
    "\n",
    "featured_image_url = ('https://www.jpl.nasa.gov/' + url[23:75])"
   ]
  },
  {
   "cell_type": "code",
   "execution_count": 12,
   "metadata": {},
   "outputs": [
    {
     "name": "stdout",
     "output_type": "stream",
     "text": [
      "https://www.jpl.nasa.gov//spaceimages/images/wallpaper/PIA19685-1920x1200.jpg\n"
     ]
    }
   ],
   "source": [
    "print(featured_image_url)"
   ]
  },
  {
   "cell_type": "code",
   "execution_count": 13,
   "metadata": {},
   "outputs": [],
   "source": [
    "executable_path = {'executable_path': 'chromedriver.exe'}\n",
    "browser = Browser('chrome', **executable_path, headless=False)\n",
    "\n",
    "url = 'https://twitter.com/marswxreport?lang=en'\n",
    "browser.visit(url)"
   ]
  },
  {
   "cell_type": "code",
   "execution_count": 14,
   "metadata": {},
   "outputs": [],
   "source": [
    "html = browser.html\n",
    "soup = BeautifulSoup(html, 'html.parser')"
   ]
  },
  {
   "cell_type": "code",
   "execution_count": 15,
   "metadata": {},
   "outputs": [
    {
     "name": "stdout",
     "output_type": "stream",
     "text": [
      "Sol 2220 (2018-11-04), high -10C/14F, low -73C/-99F, pressure at 8.66 hPa, daylight 06:16-18:33\n"
     ]
    }
   ],
   "source": [
    "tweets = soup.find('p', class_='TweetTextSize TweetTextSize--normal js-tweet-text tweet-text')\n",
    "\n",
    "mars_weather = tweets.text\n",
    "\n",
    "print(mars_weather)\n",
    "\n",
    "\n"
   ]
  },
  {
   "cell_type": "code",
   "execution_count": 16,
   "metadata": {},
   "outputs": [
    {
     "data": {
      "text/html": [
       "<div>\n",
       "<style scoped>\n",
       "    .dataframe tbody tr th:only-of-type {\n",
       "        vertical-align: middle;\n",
       "    }\n",
       "\n",
       "    .dataframe tbody tr th {\n",
       "        vertical-align: top;\n",
       "    }\n",
       "\n",
       "    .dataframe thead th {\n",
       "        text-align: right;\n",
       "    }\n",
       "</style>\n",
       "<table border=\"1\" class=\"dataframe\">\n",
       "  <thead>\n",
       "    <tr style=\"text-align: right;\">\n",
       "      <th></th>\n",
       "      <th>0</th>\n",
       "      <th>1</th>\n",
       "    </tr>\n",
       "  </thead>\n",
       "  <tbody>\n",
       "    <tr>\n",
       "      <th>0</th>\n",
       "      <td>Equatorial Diameter:</td>\n",
       "      <td>6,792 km</td>\n",
       "    </tr>\n",
       "    <tr>\n",
       "      <th>1</th>\n",
       "      <td>Polar Diameter:</td>\n",
       "      <td>6,752 km</td>\n",
       "    </tr>\n",
       "    <tr>\n",
       "      <th>2</th>\n",
       "      <td>Mass:</td>\n",
       "      <td>6.42 x 10^23 kg (10.7% Earth)</td>\n",
       "    </tr>\n",
       "    <tr>\n",
       "      <th>3</th>\n",
       "      <td>Moons:</td>\n",
       "      <td>2 (Phobos &amp; Deimos)</td>\n",
       "    </tr>\n",
       "    <tr>\n",
       "      <th>4</th>\n",
       "      <td>Orbit Distance:</td>\n",
       "      <td>227,943,824 km (1.52 AU)</td>\n",
       "    </tr>\n",
       "    <tr>\n",
       "      <th>5</th>\n",
       "      <td>Orbit Period:</td>\n",
       "      <td>687 days (1.9 years)</td>\n",
       "    </tr>\n",
       "    <tr>\n",
       "      <th>6</th>\n",
       "      <td>Surface Temperature:</td>\n",
       "      <td>-153 to 20 °C</td>\n",
       "    </tr>\n",
       "    <tr>\n",
       "      <th>7</th>\n",
       "      <td>First Record:</td>\n",
       "      <td>2nd millennium BC</td>\n",
       "    </tr>\n",
       "    <tr>\n",
       "      <th>8</th>\n",
       "      <td>Recorded By:</td>\n",
       "      <td>Egyptian astronomers</td>\n",
       "    </tr>\n",
       "  </tbody>\n",
       "</table>\n",
       "</div>"
      ],
      "text/plain": [
       "                      0                              1\n",
       "0  Equatorial Diameter:                       6,792 km\n",
       "1       Polar Diameter:                       6,752 km\n",
       "2                 Mass:  6.42 x 10^23 kg (10.7% Earth)\n",
       "3                Moons:            2 (Phobos & Deimos)\n",
       "4       Orbit Distance:       227,943,824 km (1.52 AU)\n",
       "5         Orbit Period:           687 days (1.9 years)\n",
       "6  Surface Temperature:                  -153 to 20 °C\n",
       "7         First Record:              2nd millennium BC\n",
       "8          Recorded By:           Egyptian astronomers"
      ]
     },
     "execution_count": 16,
     "metadata": {},
     "output_type": "execute_result"
    }
   ],
   "source": [
    "url = 'http://space-facts.com/mars/'\n",
    "tables = pd.read_html(url)\n",
    "tables[0]"
   ]
  },
  {
   "cell_type": "code",
   "execution_count": 17,
   "metadata": {},
   "outputs": [],
   "source": [
    "df = tables[0]\n",
    "df.columns = ['Description', 'Data']"
   ]
  },
  {
   "cell_type": "code",
   "execution_count": 20,
   "metadata": {},
   "outputs": [
    {
     "data": {
      "text/html": [
       "<div>\n",
       "<style scoped>\n",
       "    .dataframe tbody tr th:only-of-type {\n",
       "        vertical-align: middle;\n",
       "    }\n",
       "\n",
       "    .dataframe tbody tr th {\n",
       "        vertical-align: top;\n",
       "    }\n",
       "\n",
       "    .dataframe thead th {\n",
       "        text-align: right;\n",
       "    }\n",
       "</style>\n",
       "<table border=\"1\" class=\"dataframe\">\n",
       "  <thead>\n",
       "    <tr style=\"text-align: right;\">\n",
       "      <th></th>\n",
       "      <th>Data</th>\n",
       "    </tr>\n",
       "    <tr>\n",
       "      <th>Description</th>\n",
       "      <th></th>\n",
       "    </tr>\n",
       "  </thead>\n",
       "  <tbody>\n",
       "    <tr>\n",
       "      <th>Equatorial Diameter:</th>\n",
       "      <td>6,792 km</td>\n",
       "    </tr>\n",
       "    <tr>\n",
       "      <th>Polar Diameter:</th>\n",
       "      <td>6,752 km</td>\n",
       "    </tr>\n",
       "    <tr>\n",
       "      <th>Mass:</th>\n",
       "      <td>6.42 x 10^23 kg (10.7% Earth)</td>\n",
       "    </tr>\n",
       "    <tr>\n",
       "      <th>Moons:</th>\n",
       "      <td>2 (Phobos &amp; Deimos)</td>\n",
       "    </tr>\n",
       "    <tr>\n",
       "      <th>Orbit Distance:</th>\n",
       "      <td>227,943,824 km (1.52 AU)</td>\n",
       "    </tr>\n",
       "    <tr>\n",
       "      <th>Orbit Period:</th>\n",
       "      <td>687 days (1.9 years)</td>\n",
       "    </tr>\n",
       "    <tr>\n",
       "      <th>Surface Temperature:</th>\n",
       "      <td>-153 to 20 °C</td>\n",
       "    </tr>\n",
       "    <tr>\n",
       "      <th>First Record:</th>\n",
       "      <td>2nd millennium BC</td>\n",
       "    </tr>\n",
       "    <tr>\n",
       "      <th>Recorded By:</th>\n",
       "      <td>Egyptian astronomers</td>\n",
       "    </tr>\n",
       "  </tbody>\n",
       "</table>\n",
       "</div>"
      ],
      "text/plain": [
       "                                               Data\n",
       "Description                                        \n",
       "Equatorial Diameter:                       6,792 km\n",
       "Polar Diameter:                            6,752 km\n",
       "Mass:                 6.42 x 10^23 kg (10.7% Earth)\n",
       "Moons:                          2 (Phobos & Deimos)\n",
       "Orbit Distance:            227,943,824 km (1.52 AU)\n",
       "Orbit Period:                  687 days (1.9 years)\n",
       "Surface Temperature:                  -153 to 20 °C\n",
       "First Record:                     2nd millennium BC\n",
       "Recorded By:                   Egyptian astronomers"
      ]
     },
     "execution_count": 20,
     "metadata": {},
     "output_type": "execute_result"
    }
   ],
   "source": [
    "df.set_index('Description')"
   ]
  },
  {
   "cell_type": "code",
   "execution_count": 21,
   "metadata": {},
   "outputs": [],
   "source": [
    "df.columns=['','']"
   ]
  },
  {
   "cell_type": "code",
   "execution_count": 22,
   "metadata": {},
   "outputs": [
    {
     "data": {
      "text/html": [
       "<div>\n",
       "<style scoped>\n",
       "    .dataframe tbody tr th:only-of-type {\n",
       "        vertical-align: middle;\n",
       "    }\n",
       "\n",
       "    .dataframe tbody tr th {\n",
       "        vertical-align: top;\n",
       "    }\n",
       "\n",
       "    .dataframe thead th {\n",
       "        text-align: right;\n",
       "    }\n",
       "</style>\n",
       "<table border=\"1\" class=\"dataframe\">\n",
       "  <thead>\n",
       "    <tr style=\"text-align: right;\">\n",
       "      <th></th>\n",
       "      <th></th>\n",
       "      <th></th>\n",
       "    </tr>\n",
       "  </thead>\n",
       "  <tbody>\n",
       "    <tr>\n",
       "      <th>0</th>\n",
       "      <td>Equatorial Diameter:</td>\n",
       "      <td>6,792 km</td>\n",
       "    </tr>\n",
       "    <tr>\n",
       "      <th>1</th>\n",
       "      <td>Polar Diameter:</td>\n",
       "      <td>6,752 km</td>\n",
       "    </tr>\n",
       "    <tr>\n",
       "      <th>2</th>\n",
       "      <td>Mass:</td>\n",
       "      <td>6.42 x 10^23 kg (10.7% Earth)</td>\n",
       "    </tr>\n",
       "    <tr>\n",
       "      <th>3</th>\n",
       "      <td>Moons:</td>\n",
       "      <td>2 (Phobos &amp; Deimos)</td>\n",
       "    </tr>\n",
       "    <tr>\n",
       "      <th>4</th>\n",
       "      <td>Orbit Distance:</td>\n",
       "      <td>227,943,824 km (1.52 AU)</td>\n",
       "    </tr>\n",
       "    <tr>\n",
       "      <th>5</th>\n",
       "      <td>Orbit Period:</td>\n",
       "      <td>687 days (1.9 years)</td>\n",
       "    </tr>\n",
       "    <tr>\n",
       "      <th>6</th>\n",
       "      <td>Surface Temperature:</td>\n",
       "      <td>-153 to 20 °C</td>\n",
       "    </tr>\n",
       "    <tr>\n",
       "      <th>7</th>\n",
       "      <td>First Record:</td>\n",
       "      <td>2nd millennium BC</td>\n",
       "    </tr>\n",
       "    <tr>\n",
       "      <th>8</th>\n",
       "      <td>Recorded By:</td>\n",
       "      <td>Egyptian astronomers</td>\n",
       "    </tr>\n",
       "  </tbody>\n",
       "</table>\n",
       "</div>"
      ],
      "text/plain": [
       "                                                      \n",
       "0  Equatorial Diameter:                       6,792 km\n",
       "1       Polar Diameter:                       6,752 km\n",
       "2                 Mass:  6.42 x 10^23 kg (10.7% Earth)\n",
       "3                Moons:            2 (Phobos & Deimos)\n",
       "4       Orbit Distance:       227,943,824 km (1.52 AU)\n",
       "5         Orbit Period:           687 days (1.9 years)\n",
       "6  Surface Temperature:                  -153 to 20 °C\n",
       "7         First Record:              2nd millennium BC\n",
       "8          Recorded By:           Egyptian astronomers"
      ]
     },
     "execution_count": 22,
     "metadata": {},
     "output_type": "execute_result"
    }
   ],
   "source": [
    "df"
   ]
  },
  {
   "cell_type": "code",
   "execution_count": 24,
   "metadata": {},
   "outputs": [
    {
     "data": {
      "text/plain": [
       "'<table border=\"1\" class=\"dataframe\">\\n  <thead>\\n    <tr style=\"text-align: right;\">\\n      <th></th>\\n      <th></th>\\n      <th></th>\\n    </tr>\\n  </thead>\\n  <tbody>\\n    <tr>\\n      <th>0</th>\\n      <td>Equatorial Diameter:</td>\\n      <td>6,792 km</td>\\n    </tr>\\n    <tr>\\n      <th>1</th>\\n      <td>Polar Diameter:</td>\\n      <td>6,752 km</td>\\n    </tr>\\n    <tr>\\n      <th>2</th>\\n      <td>Mass:</td>\\n      <td>6.42 x 10^23 kg (10.7% Earth)</td>\\n    </tr>\\n    <tr>\\n      <th>3</th>\\n      <td>Moons:</td>\\n      <td>2 (Phobos &amp; Deimos)</td>\\n    </tr>\\n    <tr>\\n      <th>4</th>\\n      <td>Orbit Distance:</td>\\n      <td>227,943,824 km (1.52 AU)</td>\\n    </tr>\\n    <tr>\\n      <th>5</th>\\n      <td>Orbit Period:</td>\\n      <td>687 days (1.9 years)</td>\\n    </tr>\\n    <tr>\\n      <th>6</th>\\n      <td>Surface Temperature:</td>\\n      <td>-153 to 20 °C</td>\\n    </tr>\\n    <tr>\\n      <th>7</th>\\n      <td>First Record:</td>\\n      <td>2nd millennium BC</td>\\n    </tr>\\n    <tr>\\n      <th>8</th>\\n      <td>Recorded By:</td>\\n      <td>Egyptian astronomers</td>\\n    </tr>\\n  </tbody>\\n</table>'"
      ]
     },
     "execution_count": 24,
     "metadata": {},
     "output_type": "execute_result"
    }
   ],
   "source": [
    "mars_table = df.to_html()\n",
    "mars_table"
   ]
  },
  {
   "cell_type": "code",
   "execution_count": 26,
   "metadata": {},
   "outputs": [
    {
     "data": {
      "text/plain": [
       "'<table border=\"1\" class=\"dataframe\">  <thead>    <tr style=\"text-align: right;\">      <th></th>      <th></th>      <th></th>    </tr>  </thead>  <tbody>    <tr>      <th>0</th>      <td>Equatorial Diameter:</td>      <td>6,792 km</td>    </tr>    <tr>      <th>1</th>      <td>Polar Diameter:</td>      <td>6,752 km</td>    </tr>    <tr>      <th>2</th>      <td>Mass:</td>      <td>6.42 x 10^23 kg (10.7% Earth)</td>    </tr>    <tr>      <th>3</th>      <td>Moons:</td>      <td>2 (Phobos &amp; Deimos)</td>    </tr>    <tr>      <th>4</th>      <td>Orbit Distance:</td>      <td>227,943,824 km (1.52 AU)</td>    </tr>    <tr>      <th>5</th>      <td>Orbit Period:</td>      <td>687 days (1.9 years)</td>    </tr>    <tr>      <th>6</th>      <td>Surface Temperature:</td>      <td>-153 to 20 °C</td>    </tr>    <tr>      <th>7</th>      <td>First Record:</td>      <td>2nd millennium BC</td>    </tr>    <tr>      <th>8</th>      <td>Recorded By:</td>      <td>Egyptian astronomers</td>    </tr>  </tbody></table>'"
      ]
     },
     "execution_count": 26,
     "metadata": {},
     "output_type": "execute_result"
    }
   ],
   "source": [
    "mars_table = mars_table.replace('\\n', '')\n",
    "mars_table"
   ]
  },
  {
   "cell_type": "code",
   "execution_count": 24,
   "metadata": {},
   "outputs": [],
   "source": [
    "executable_path = {'executable_path': 'chromedriver.exe'}\n",
    "browser = Browser('chrome', **executable_path, headless=False)\n",
    "\n",
    "url = 'https://astrogeology.usgs.gov/search/map/Mars/Viking/cerberus_enhanced'\n",
    "browser.visit(url)"
   ]
  },
  {
   "cell_type": "code",
   "execution_count": 25,
   "metadata": {
    "scrolled": true
   },
   "outputs": [],
   "source": [
    "html=browser.html\n",
    "soup=BeautifulSoup(html,'html.parser')\n"
   ]
  },
  {
   "cell_type": "code",
   "execution_count": 32,
   "metadata": {},
   "outputs": [
    {
     "name": "stdout",
     "output_type": "stream",
     "text": [
      "http://astropedia.astrogeology.usgs.gov/download/Mars/Viking/cerberus_enhanced.tif/full.jpg\n"
     ]
    }
   ],
   "source": [
    "#not sure if I am supposed to grab these big images or do the loop that I did below, ask\n",
    "hem1 = soup.find(class_='downloads')\n",
    "\n",
    "li = hem1.find('li')\n",
    "a = li.find('a')\n",
    "link = a['href']\n",
    "\n",
    "print(link)"
   ]
  },
  {
   "cell_type": "code",
   "execution_count": 45,
   "metadata": {},
   "outputs": [],
   "source": [
    "executable_path = {'executable_path': 'chromedriver.exe'}\n",
    "browser = Browser('chrome', **executable_path, headless=False)\n",
    "\n",
    "url = 'https://astrogeology.usgs.gov/search/map/Mars/Viking/cerberus_enhanced'\n",
    "browser.visit(url)"
   ]
  },
  {
   "cell_type": "code",
   "execution_count": 46,
   "metadata": {},
   "outputs": [],
   "source": [
    "html=browser.html\n",
    "soup=BeautifulSoup(html,'html.parser')\n"
   ]
  },
  {
   "cell_type": "code",
   "execution_count": 47,
   "metadata": {},
   "outputs": [
    {
     "name": "stdout",
     "output_type": "stream",
     "text": [
      "http://astropedia.astrogeology.usgs.gov/download/Mars/Viking/cerberus_enhanced.tif/full.jpg\n",
      "Cerberus Hemisphere Enhanced\n"
     ]
    }
   ],
   "source": [
    "results = soup.find_all(class_='downloads')\n",
    "resultstwo = soup.find_all(class_='content')\n",
    "\n",
    "marsone={}\n",
    "for result in results:\n",
    "    img = result.find('a')\n",
    "    img_urlone = img['href']\n",
    "    print(img_urlone)\n",
    "\n",
    "for result in resultstwo:\n",
    "    titleone = result.find('h2').text\n",
    "    print(titleone) \n",
    "\n",
    "marsone.update({titleone:(img_urlone)})\n"
   ]
  },
  {
   "cell_type": "code",
   "execution_count": 48,
   "metadata": {},
   "outputs": [
    {
     "data": {
      "text/plain": [
       "{'Cerberus Hemisphere Enhanced': 'http://astropedia.astrogeology.usgs.gov/download/Mars/Viking/cerberus_enhanced.tif/full.jpg'}"
      ]
     },
     "execution_count": 48,
     "metadata": {},
     "output_type": "execute_result"
    }
   ],
   "source": [
    "mars"
   ]
  },
  {
   "cell_type": "code",
   "execution_count": 49,
   "metadata": {},
   "outputs": [],
   "source": [
    "executable_path = {'executable_path': 'chromedriver.exe'}\n",
    "browser = Browser('chrome', **executable_path, headless=False)\n",
    "\n",
    "url = 'https://astrogeology.usgs.gov/search/map/Mars/Viking/valles_marineris_enhanced'\n",
    "browser.visit(url)"
   ]
  },
  {
   "cell_type": "code",
   "execution_count": 50,
   "metadata": {},
   "outputs": [],
   "source": [
    "html=browser.html\n",
    "soup=BeautifulSoup(html,'html.parser')"
   ]
  },
  {
   "cell_type": "code",
   "execution_count": 51,
   "metadata": {},
   "outputs": [
    {
     "name": "stdout",
     "output_type": "stream",
     "text": [
      "http://astropedia.astrogeology.usgs.gov/download/Mars/Viking/valles_marineris_enhanced.tif/full.jpg\n",
      "Valles Marineris Hemisphere Enhanced\n"
     ]
    }
   ],
   "source": [
    "results = soup.find_all(class_='downloads')\n",
    "resultstwo = soup.find_all(class_='content')\n",
    "\n",
    "marstwo={}\n",
    "for result in results:\n",
    "    img = result.find('a')\n",
    "    img_urltwo = img['href']\n",
    "    print(img_urltwo)\n",
    "\n",
    "for result in resultstwo:\n",
    "    titletwo = result.find('h2').text\n",
    "    print(titletwo) \n",
    "\n",
    "marstwo.update({titletwo:(img_urltwo)})"
   ]
  },
  {
   "cell_type": "code",
   "execution_count": 52,
   "metadata": {},
   "outputs": [],
   "source": [
    "executable_path = {'executable_path': 'chromedriver.exe'}\n",
    "browser = Browser('chrome', **executable_path, headless=False)\n",
    "\n",
    "url = 'https://astrogeology.usgs.gov/search/map/Mars/Viking/syrtis_major_enhanced'\n",
    "browser.visit(url)"
   ]
  },
  {
   "cell_type": "code",
   "execution_count": 53,
   "metadata": {},
   "outputs": [],
   "source": [
    "html=browser.html\n",
    "soup=BeautifulSoup(html,'html.parser')"
   ]
  },
  {
   "cell_type": "code",
   "execution_count": 54,
   "metadata": {},
   "outputs": [
    {
     "name": "stdout",
     "output_type": "stream",
     "text": [
      "http://astropedia.astrogeology.usgs.gov/download/Mars/Viking/syrtis_major_enhanced.tif/full.jpg\n",
      "Syrtis Major Hemisphere Enhanced\n"
     ]
    }
   ],
   "source": [
    "results = soup.find_all(class_='downloads')\n",
    "resultstwo = soup.find_all(class_='content')\n",
    "\n",
    "marsthree={}\n",
    "for result in results:\n",
    "    img = result.find('a')\n",
    "    img_urlthree = img['href']\n",
    "    print(img_urlthree)\n",
    "\n",
    "for result in resultstwo:\n",
    "    titlethree = result.find('h2').text\n",
    "    print(titlethree) \n",
    "\n",
    "marsthree.update({titlethree:(img_urlthree)})"
   ]
  },
  {
   "cell_type": "code",
   "execution_count": 55,
   "metadata": {},
   "outputs": [],
   "source": [
    "executable_path = {'executable_path': 'chromedriver.exe'}\n",
    "browser = Browser('chrome', **executable_path, headless=False)\n",
    "\n",
    "url = 'https://astrogeology.usgs.gov/search/map/Mars/Viking/schiaparelli_enhanced'\n",
    "browser.visit(url)"
   ]
  },
  {
   "cell_type": "code",
   "execution_count": 56,
   "metadata": {},
   "outputs": [],
   "source": [
    "html=browser.html\n",
    "soup=BeautifulSoup(html,'html.parser')"
   ]
  },
  {
   "cell_type": "code",
   "execution_count": 57,
   "metadata": {},
   "outputs": [
    {
     "name": "stdout",
     "output_type": "stream",
     "text": [
      "http://astropedia.astrogeology.usgs.gov/download/Mars/Viking/schiaparelli_enhanced.tif/full.jpg\n",
      "Schiaparelli Hemisphere Enhanced\n"
     ]
    }
   ],
   "source": [
    "results = soup.find_all(class_='downloads')\n",
    "resultstwo = soup.find_all(class_='content')\n",
    "\n",
    "marsfour={}\n",
    "for result in results:\n",
    "    img = result.find('a')\n",
    "    img_urlfour = img['href']\n",
    "    print(img_urlfour)\n",
    "\n",
    "for result in resultstwo:\n",
    "    titlefour = result.find('h2').text\n",
    "    print(titlefour) \n",
    "\n",
    "marsfour.update({titlefour:(img_urlfour)})"
   ]
  },
  {
   "cell_type": "code",
   "execution_count": null,
   "metadata": {},
   "outputs": [],
   "source": []
  },
  {
   "cell_type": "code",
   "execution_count": 58,
   "metadata": {},
   "outputs": [],
   "source": [
    "hemisphere_image_urls ={'mars':{\"title_two\": titleone, \"image_url\": img_urlone},\n",
    "                        'marstwo':{\"title_two\": titletwo, \"image_url\": img_urltwo},\n",
    "                        'marsthree':{\"title_two\": titlethree, \"image_url\": img_urlthree},\n",
    "                        'marsfour':{\"title_two\": titlefour, \"image_url\": img_urlfour}}"
   ]
  },
  {
   "cell_type": "code",
   "execution_count": 59,
   "metadata": {},
   "outputs": [
    {
     "data": {
      "text/plain": [
       "{'mars': {'title_two': 'Cerberus Hemisphere Enhanced',\n",
       "  'image_url': 'http://astropedia.astrogeology.usgs.gov/download/Mars/Viking/cerberus_enhanced.tif/full.jpg'},\n",
       " 'marstwo': {'title_two': 'Valles Marineris Hemisphere Enhanced',\n",
       "  'image_url': 'http://astropedia.astrogeology.usgs.gov/download/Mars/Viking/valles_marineris_enhanced.tif/full.jpg'},\n",
       " 'marsthree': {'title_two': 'Syrtis Major Hemisphere Enhanced',\n",
       "  'image_url': 'http://astropedia.astrogeology.usgs.gov/download/Mars/Viking/syrtis_major_enhanced.tif/full.jpg'},\n",
       " 'marsfour': {'title_two': 'Schiaparelli Hemisphere Enhanced',\n",
       "  'image_url': 'http://astropedia.astrogeology.usgs.gov/download/Mars/Viking/schiaparelli_enhanced.tif/full.jpg'}}"
      ]
     },
     "execution_count": 59,
     "metadata": {},
     "output_type": "execute_result"
    }
   ],
   "source": [
    "hemisphere_image_urls"
   ]
  },
  {
   "cell_type": "code",
   "execution_count": null,
   "metadata": {},
   "outputs": [],
   "source": []
  },
  {
   "cell_type": "code",
   "execution_count": null,
   "metadata": {},
   "outputs": [],
   "source": []
  },
  {
   "cell_type": "code",
   "execution_count": null,
   "metadata": {},
   "outputs": [],
   "source": []
  },
  {
   "cell_type": "code",
   "execution_count": null,
   "metadata": {},
   "outputs": [],
   "source": []
  }
 ],
 "metadata": {
  "kernelspec": {
   "display_name": "Python 3",
   "language": "python",
   "name": "python3"
  },
  "language_info": {
   "codemirror_mode": {
    "name": "ipython",
    "version": 3
   },
   "file_extension": ".py",
   "mimetype": "text/x-python",
   "name": "python",
   "nbconvert_exporter": "python",
   "pygments_lexer": "ipython3",
   "version": "3.6.6"
  }
 },
 "nbformat": 4,
 "nbformat_minor": 2
}
